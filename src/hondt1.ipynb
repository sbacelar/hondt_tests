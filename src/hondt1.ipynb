{
 "cells": [
  {
   "cell_type": "markdown",
   "metadata": {},
   "source": [
    "A ideia é muito simples: havendo vários mandatos para atribuir, se há n\n",
    "  listas concorrentes, cada uma com  $v_n$ votos, \n",
    "  \n",
    "  e a cada uma já foram atribuídos  $a_n$\n",
    "  mandatos (no início  $a_n$ é obviamente $0$) então o próximo mandato é \n",
    "  atribuído à lista com o máximo valor de \n",
    "  \n",
    "  $\\frac{v_n}{1+a_n}$."
   ]
  },
  {
   "cell_type": "code",
   "execution_count": 8,
   "metadata": {},
   "outputs": [],
   "source": [
    "def posmax(lista):\n",
    "    assert lista!=[]\n",
    "    max=lista[-1]\n",
    "    pmax=len(lista)-1\n",
    "    for pos in range(pmax-1,-1,-1):\n",
    "        val=lista[pos]\n",
    "        if val>max:\n",
    "            max=val\n",
    "            pmax=pos\n",
    "    return pmax"
   ]
  },
  {
   "cell_type": "code",
   "execution_count": 9,
   "metadata": {},
   "outputs": [],
   "source": [
    "def hondt(votos,lugares):\n",
    "    res=[0 for i in range(len(votos))]\n",
    "    coefs=votos[:]\n",
    "    for disp in range(lugares,0,-1):\n",
    "        prox=posmax(coefs)\n",
    "        res[prox]=res[prox]+1\n",
    "        coefs[prox]=votos[prox]/(res[prox]+1)\n",
    "    return res"
   ]
  },
  {
   "cell_type": "markdown",
   "metadata": {},
   "source": [
    "Neste caso o número de listas é $n=4$ e o número de mandatos a atribuir é $a_n=9$.\n",
    "\n",
    "O número de votos de cada lista é dado por $v_n$: $v_1=100$, $v_2=80$, $v_3=30$ e $v_4=20$."
   ]
  },
  {
   "cell_type": "code",
   "execution_count": 12,
   "metadata": {},
   "outputs": [],
   "source": [
    "#votes = [100,80,30,20]\n",
    "votes = [1305956, 903151, 650114, 532193, 319024]\n",
    "seats = 18\n",
    "mandatos = hondt(votes, seats)\n"
   ]
  },
  {
   "cell_type": "code",
   "execution_count": 13,
   "metadata": {},
   "outputs": [
    {
     "name": "stdout",
     "output_type": "stream",
     "text": [
      "O partido 1 obteve 4 mandatos\n",
      "O partido 2 obteve 3 mandatos\n",
      "O partido 3 obteve 1 mandatos\n",
      "O partido 4 obteve 1 mandatos\n"
     ]
    }
   ],
   "source": [
    "for i in range(len(mandatos)):\n",
    "    print(f\"O partido {i+1} obteve {mandatos[i]} mandatos\")"
   ]
  },
  {
   "cell_type": "code",
   "execution_count": null,
   "metadata": {},
   "outputs": [],
   "source": []
  }
 ],
 "metadata": {
  "kernelspec": {
   "display_name": "py311",
   "language": "python",
   "name": "python3"
  },
  "language_info": {
   "codemirror_mode": {
    "name": "ipython",
    "version": 3
   },
   "file_extension": ".py",
   "mimetype": "text/x-python",
   "name": "python",
   "nbconvert_exporter": "python",
   "pygments_lexer": "ipython3",
   "version": "3.11.3"
  }
 },
 "nbformat": 4,
 "nbformat_minor": 2
}
